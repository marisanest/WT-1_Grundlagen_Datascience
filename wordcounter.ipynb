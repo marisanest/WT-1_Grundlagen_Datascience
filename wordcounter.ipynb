{
 "cells": [
  {
   "cell_type": "markdown",
   "metadata": {},
   "source": [
    "http://stackoverflow.com/questions/37508659/group-by-and-count-distinct-words-in-pandas-dataframe\n",
    "\n",
    "http://stackoverflow.com/questions/14262433/large-data-work-flows-using-pandas\n"
   ]
  },
  {
   "cell_type": "code",
   "execution_count": 1,
   "metadata": {
    "collapsed": false
   },
   "outputs": [
    {
     "name": "stdout",
     "output_type": "stream",
     "text": [
      "ls: Zugriff auf './share/Data' nicht möglich: Datei oder Verzeichnis nicht gefunden\r\n"
     ]
    }
   ],
   "source": [
    "!ls -Lilah ./share/Data\n",
    "import pandas as pd\n",
    "import numpy as np\n",
    "import plotly.plotly as py\n",
    "import re\n",
    "\n"
   ]
  },
  {
   "cell_type": "code",
   "execution_count": 2,
   "metadata": {
    "collapsed": false
   },
   "outputs": [
    {
     "name": "stdout",
     "output_type": "stream",
     "text": [
      "--2016-12-23 09:14:42--  https://raw.githubusercontent.com/solariz/german_stopwords/master/german_stopwords_full.txt\n",
      "Auflösen des Hostnamens »raw.githubusercontent.com (raw.githubusercontent.com)« … 151.101.112.133\n",
      "Verbindungsaufbau zu raw.githubusercontent.com (raw.githubusercontent.com)|151.101.112.133|:443 … verbunden.\n",
      "HTTP-Anforderung gesendet, auf Antwort wird gewartet … 200 OK\n",
      "Länge: 17296 (17K) [text/plain]\n",
      "Wird in »»german_stopwords_full.txt«« gespeichert.\n",
      "\n",
      "german_stopwords_fu 100%[===================>]  16,89K  --.-KB/s    in 0,08s   \n",
      "\n",
      "2016-12-23 09:14:42 (218 KB/s) - »»german_stopwords_full.txt«« gespeichert [17296/17296]\n",
      "\n"
     ]
    }
   ],
   "source": [
    "# Stopwords are downloaded and defined here\n",
    "try:\n",
    "    with open(\"german_stopwords_full.txt\") as f:\n",
    "        STOPWORDS = [line.strip() for line in f if not line.startswith(\";\")]\n",
    "except FileNotFoundError:\n",
    "    !wget https://raw.githubusercontent.com/solariz/german_stopwords/master/german_stopwords_full.txt\n",
    "    with open(\"german_stopwords_full.txt\") as f:\n",
    "        STOPWORDS = [line.strip() for line in f if not line.startswith(\";\")] \n",
    "      \n",
    "\n",
    "SW = [\"dass\"]\n",
    "_ = [STOPWORDS.append(w) for w in SW]"
   ]
  },
  {
   "cell_type": "code",
   "execution_count": 3,
   "metadata": {
    "collapsed": false
   },
   "outputs": [],
   "source": [
    "# generate the raw_data from CSV\n",
    "raw_data = pd.read_csv(\"../share/Data/SPON_complete\", delimiter=\",\", skipinitialspace=True)"
   ]
  },
  {
   "cell_type": "code",
   "execution_count": 9,
   "metadata": {
    "collapsed": false
   },
   "outputs": [],
   "source": [
    "def count_words(source, word=None):\n",
    "    \"\"\" Counting the words of the column article of a given Dataframe.\n",
    "    \n",
    "    It is possible to define a word, so only this word will be counted.\n",
    "    \"\"\"\n",
    "    \n",
    "    #split column Message to new df, create Serie by stack\n",
    "    s = (source.article.str.split(expand=True).stack().str.lower()   )\n",
    "    #remove multiindex\n",
    "    s.index = s.index.droplevel(-1)\n",
    "    s.name= 'words'\n",
    "    #join Serie s to df source\n",
    "    df = (source.join(s))\n",
    "    \n",
    "    # Cleaning the strings to be only alphanumeric\n",
    "    df['words'] = df['words'].map(lambda x: re.sub(r'\\W+', '', str(x)))\n",
    "    \n",
    "    df = df[~df['words'].isin(STOPWORDS)].groupby(['words']).size().reset_index(name='count').sort_values(by='count')\n",
    "    \n",
    "    if word:\n",
    "        df = df[df['words'].str.contains(word)]\n",
    "    return df\n"
   ]
  },
  {
   "cell_type": "code",
   "execution_count": 5,
   "metadata": {
    "collapsed": false
   },
   "outputs": [],
   "source": [
    "# This will generate a list of Strings, representating the months from .01.2001 to .12.2012\n",
    "datestrings = ( \".{:02d}.20{:02d}\".format(m,y)  for y in range(1, 17) for m in range(1, 13) )"
   ]
  },
  {
   "cell_type": "code",
   "execution_count": 6,
   "metadata": {
    "collapsed": true
   },
   "outputs": [],
   "source": [
    "# Count the absolute existence of one word\n",
    "absolute_count = lambda d, w : count_words(raw_data[raw_data.day.str.contains(d, na=False)],\n",
    "           word=w)['count'].sum()"
   ]
  },
  {
   "cell_type": "code",
   "execution_count": 7,
   "metadata": {
    "collapsed": true
   },
   "outputs": [],
   "source": [
    "## TODO:\n",
    "#   - Tabbelenüberschrift mit gesuchtem Wort, sonst \"words\"\n",
    "#   - konkatenieren von verschiedenen Suchbegriffen in einer \n",
    "#     großen Tabelle\n",
    "#   - Schreiben der Daten in persistente Datenstruktur (CSV)"
   ]
  },
  {
   "cell_type": "code",
   "execution_count": 12,
   "metadata": {
    "collapsed": false
   },
   "outputs": [],
   "source": [
    "\n",
    "# Testdaten\n",
    "\n",
    "A = ['.01.2016', '.02.2016', '.03.2016', '.04.2016', '.05.2016', '.06.2016',\n",
    "     '.07.2016', '.08.2016', '.09.2016', '.10.2016', '.11.2016', '.12.2016']\n",
    "\n",
    "t =[absolute_count(a, 'pegida') for a in A]\n",
    "\n",
    "m = (   \"Jan\", \"Feb\", \"Mär\", \"Apr\", \"Mai\", \"Jun\", \n",
    "        \"Jul\", \"Aug\", \"Sep\", \"Okt\", \"Nov\", \"Dez\")\n",
    "d = pd.DataFrame(t, index=m)\n",
    "d.columns = [\"Pegida\"]"
   ]
  },
  {
   "cell_type": "code",
   "execution_count": 13,
   "metadata": {
    "collapsed": false
   },
   "outputs": [
    {
     "data": {
      "text/plain": [
       "<matplotlib.axes._subplots.AxesSubplot at 0x7fa2efed39b0>"
      ]
     },
     "execution_count": 13,
     "metadata": {},
     "output_type": "execute_result"
    },
    {
     "data": {
      "image/png": "[encoded data removed]",
      "text/plain": [
       "<matplotlib.figure.Figure at 0x7fa2f1abd7b8>"
      ]
     },
     "metadata": {},
     "output_type": "display_data"
    }
   ],
   "source": [
    "%matplotlib inline\n",
    "import matplotlib.pyplot as plt\n",
    "\n",
    "d.plot(\n",
    "    kind='bar', \n",
    "    title='Anzahl des Wortes \"{}\" nach Monaten'.format(d.columns.values))\n"
   ]
  }
 ],
 "metadata": {
  "anaconda-cloud": {},
  "kernelspec": {
   "display_name": "Python [conda root]",
   "language": "python",
   "name": "conda-root-py"
  },
  "language_info": {
   "codemirror_mode": {
    "name": "ipython",
    "version": 3
   },
   "file_extension": ".py",
   "mimetype": "text/x-python",
   "name": "python",
   "nbconvert_exporter": "python",
   "pygments_lexer": "ipython3",
   "version": "3.5.2"
  }
 },
 "nbformat": 4,
 "nbformat_minor": 1
}
